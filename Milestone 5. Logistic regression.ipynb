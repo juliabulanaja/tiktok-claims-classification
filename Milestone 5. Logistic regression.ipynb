{
 "cells": [
  {
   "cell_type": "markdown",
   "metadata": {
    "id": "DtNBZFHO3M7n"
   },
   "source": [
    "# **TikTok Project**"
   ]
  },
  {
   "cell_type": "code",
   "execution_count": 1,
   "metadata": {},
   "outputs": [
    {
     "name": "stdout",
     "output_type": "stream",
     "text": [
      "Python version:  3.12.2\n",
      "numpy version:  2.2.4\n",
      "pandas version:  2.2.3\n",
      "statsmodels version:  0.14.4\n"
     ]
    }
   ],
   "source": [
    "import numpy as np\n",
    "import pandas as pd\n",
    "import platform\n",
    "import statsmodels\n",
    "print('Python version: ', platform.python_version())\n",
    "print('numpy version: ', np.__version__)\n",
    "print('pandas version: ', pd.__version__)\n",
    "print('statsmodels version: ', statsmodels.__version__)"
   ]
  },
  {
   "cell_type": "markdown",
   "metadata": {
    "id": "rgSbVJvomcVa"
   },
   "source": [
    "# **Regression modeling**\n",
    "\n",
    "**The goal** is to build a logistic regression model and evaluate the model."
   ]
  },
  {
   "cell_type": "markdown",
   "metadata": {
    "id": "3UCHQclzQDUL"
   },
   "source": [
    "# **PACE stages**"
   ]
  },
  {
   "cell_type": "markdown",
   "metadata": {
    "id": "F5O5cx_qQJmX"
   },
   "source": [
    "## **PACE: Plan**"
   ]
  },
  {
   "cell_type": "code",
   "execution_count": 2,
   "metadata": {
    "id": "tCni9wAGphb0"
   },
   "outputs": [],
   "source": [
    "# Import packages for data visualization\n",
    "import matplotlib.pyplot as plt\n",
    "import seaborn as sns\n",
    "\n",
    "# Import packages for data preprocessing\n",
    "import statsmodels.api as sm\n",
    "from statsmodels.formula.api import ols\n",
    "from statsmodels.stats.outliers_influence import variance_inflation_factor\n",
    "\n",
    "# Import packages for data modeling\n",
    "from sklearn.linear_model import LogisticRegression\n",
    "from sklearn.model_selection import train_test_split\n",
    "from sklearn.preprocessing import LabelEncoder, OneHotEncoder\n",
    "from sklearn.metrics import confusion_matrix, ConfusionMatrixDisplay, f1_score, precision_score, recall_score, accuracy_score"
   ]
  },
  {
   "cell_type": "code",
   "execution_count": 3,
   "metadata": {
    "id": "C9ODhaOppqlw"
   },
   "outputs": [],
   "source": [
    "# Load dataset into dataframe\n",
    "data = pd.read_csv(\"tiktok_dataset.csv\")"
   ]
  },
  {
   "cell_type": "markdown",
   "metadata": {
    "id": "OnrvCSfHUWPv"
   },
   "source": [
    "## **PACE: Analyze**"
   ]
  },
  {
   "cell_type": "markdown",
   "metadata": {
    "id": "rIcDG2e66wt9"
   },
   "source": [
    "### **Explore data with EDA**\n",
    "\n",
    "Let's analyze the data and check for and handle missing values and duplicates."
   ]
  },
  {
   "cell_type": "code",
   "execution_count": 4,
   "metadata": {
    "id": "2rfk95MLp4a_"
   },
   "outputs": [
    {
     "data": {
      "text/html": [
       "<div>\n",
       "<style scoped>\n",
       "    .dataframe tbody tr th:only-of-type {\n",
       "        vertical-align: middle;\n",
       "    }\n",
       "\n",
       "    .dataframe tbody tr th {\n",
       "        vertical-align: top;\n",
       "    }\n",
       "\n",
       "    .dataframe thead th {\n",
       "        text-align: right;\n",
       "    }\n",
       "</style>\n",
       "<table border=\"1\" class=\"dataframe\">\n",
       "  <thead>\n",
       "    <tr style=\"text-align: right;\">\n",
       "      <th></th>\n",
       "      <th>#</th>\n",
       "      <th>claim_status</th>\n",
       "      <th>video_id</th>\n",
       "      <th>video_duration_sec</th>\n",
       "      <th>video_transcription_text</th>\n",
       "      <th>verified_status</th>\n",
       "      <th>author_ban_status</th>\n",
       "      <th>video_view_count</th>\n",
       "      <th>video_like_count</th>\n",
       "      <th>video_share_count</th>\n",
       "      <th>video_download_count</th>\n",
       "      <th>video_comment_count</th>\n",
       "    </tr>\n",
       "  </thead>\n",
       "  <tbody>\n",
       "    <tr>\n",
       "      <th>0</th>\n",
       "      <td>1</td>\n",
       "      <td>claim</td>\n",
       "      <td>7017666017</td>\n",
       "      <td>59</td>\n",
       "      <td>someone shared with me that drone deliveries a...</td>\n",
       "      <td>not verified</td>\n",
       "      <td>under review</td>\n",
       "      <td>343296.0</td>\n",
       "      <td>19425.0</td>\n",
       "      <td>241.0</td>\n",
       "      <td>1.0</td>\n",
       "      <td>0.0</td>\n",
       "    </tr>\n",
       "    <tr>\n",
       "      <th>1</th>\n",
       "      <td>2</td>\n",
       "      <td>claim</td>\n",
       "      <td>4014381136</td>\n",
       "      <td>32</td>\n",
       "      <td>someone shared with me that there are more mic...</td>\n",
       "      <td>not verified</td>\n",
       "      <td>active</td>\n",
       "      <td>140877.0</td>\n",
       "      <td>77355.0</td>\n",
       "      <td>19034.0</td>\n",
       "      <td>1161.0</td>\n",
       "      <td>684.0</td>\n",
       "    </tr>\n",
       "    <tr>\n",
       "      <th>2</th>\n",
       "      <td>3</td>\n",
       "      <td>claim</td>\n",
       "      <td>9859838091</td>\n",
       "      <td>31</td>\n",
       "      <td>someone shared with me that american industria...</td>\n",
       "      <td>not verified</td>\n",
       "      <td>active</td>\n",
       "      <td>902185.0</td>\n",
       "      <td>97690.0</td>\n",
       "      <td>2858.0</td>\n",
       "      <td>833.0</td>\n",
       "      <td>329.0</td>\n",
       "    </tr>\n",
       "    <tr>\n",
       "      <th>3</th>\n",
       "      <td>4</td>\n",
       "      <td>claim</td>\n",
       "      <td>1866847991</td>\n",
       "      <td>25</td>\n",
       "      <td>someone shared with me that the metro of st. p...</td>\n",
       "      <td>not verified</td>\n",
       "      <td>active</td>\n",
       "      <td>437506.0</td>\n",
       "      <td>239954.0</td>\n",
       "      <td>34812.0</td>\n",
       "      <td>1234.0</td>\n",
       "      <td>584.0</td>\n",
       "    </tr>\n",
       "    <tr>\n",
       "      <th>4</th>\n",
       "      <td>5</td>\n",
       "      <td>claim</td>\n",
       "      <td>7105231098</td>\n",
       "      <td>19</td>\n",
       "      <td>someone shared with me that the number of busi...</td>\n",
       "      <td>not verified</td>\n",
       "      <td>active</td>\n",
       "      <td>56167.0</td>\n",
       "      <td>34987.0</td>\n",
       "      <td>4110.0</td>\n",
       "      <td>547.0</td>\n",
       "      <td>152.0</td>\n",
       "    </tr>\n",
       "  </tbody>\n",
       "</table>\n",
       "</div>"
      ],
      "text/plain": [
       "   # claim_status    video_id  video_duration_sec  \\\n",
       "0  1        claim  7017666017                  59   \n",
       "1  2        claim  4014381136                  32   \n",
       "2  3        claim  9859838091                  31   \n",
       "3  4        claim  1866847991                  25   \n",
       "4  5        claim  7105231098                  19   \n",
       "\n",
       "                            video_transcription_text verified_status  \\\n",
       "0  someone shared with me that drone deliveries a...    not verified   \n",
       "1  someone shared with me that there are more mic...    not verified   \n",
       "2  someone shared with me that american industria...    not verified   \n",
       "3  someone shared with me that the metro of st. p...    not verified   \n",
       "4  someone shared with me that the number of busi...    not verified   \n",
       "\n",
       "  author_ban_status  video_view_count  video_like_count  video_share_count  \\\n",
       "0      under review          343296.0           19425.0              241.0   \n",
       "1            active          140877.0           77355.0            19034.0   \n",
       "2            active          902185.0           97690.0             2858.0   \n",
       "3            active          437506.0          239954.0            34812.0   \n",
       "4            active           56167.0           34987.0             4110.0   \n",
       "\n",
       "   video_download_count  video_comment_count  \n",
       "0                   1.0                  0.0  \n",
       "1                1161.0                684.0  \n",
       "2                 833.0                329.0  \n",
       "3                1234.0                584.0  \n",
       "4                 547.0                152.0  "
      ]
     },
     "execution_count": 4,
     "metadata": {},
     "output_type": "execute_result"
    }
   ],
   "source": [
    "# Display first few rows\n",
    "data.head()"
   ]
  },
  {
   "cell_type": "code",
   "execution_count": 5,
   "metadata": {
    "id": "rbpDgrXfEoVj"
   },
   "outputs": [
    {
     "name": "stdout",
     "output_type": "stream",
     "text": [
      "Number of rows: 19382\n",
      "Number of columns: 12\n"
     ]
    }
   ],
   "source": [
    "rows, cols = data.shape\n",
    "print(\"Number of rows:\", rows)\n",
    "print(\"Number of columns:\", cols)"
   ]
  },
  {
   "cell_type": "code",
   "execution_count": 6,
   "metadata": {
    "id": "zyyKCGzCp7SS"
   },
   "outputs": [
    {
     "name": "stdout",
     "output_type": "stream",
     "text": [
      "<class 'pandas.core.frame.DataFrame'>\n",
      "RangeIndex: 19382 entries, 0 to 19381\n",
      "Data columns (total 12 columns):\n",
      " #   Column                    Non-Null Count  Dtype  \n",
      "---  ------                    --------------  -----  \n",
      " 0   #                         19382 non-null  int64  \n",
      " 1   claim_status              19084 non-null  object \n",
      " 2   video_id                  19382 non-null  int64  \n",
      " 3   video_duration_sec        19382 non-null  int64  \n",
      " 4   video_transcription_text  19084 non-null  object \n",
      " 5   verified_status           19382 non-null  object \n",
      " 6   author_ban_status         19382 non-null  object \n",
      " 7   video_view_count          19084 non-null  float64\n",
      " 8   video_like_count          19084 non-null  float64\n",
      " 9   video_share_count         19084 non-null  float64\n",
      " 10  video_download_count      19084 non-null  float64\n",
      " 11  video_comment_count       19084 non-null  float64\n",
      "dtypes: float64(5), int64(3), object(4)\n",
      "memory usage: 1.8+ MB\n"
     ]
    }
   ],
   "source": [
    "# Get basic information about the dataset\n",
    "data.info()"
   ]
  },
  {
   "cell_type": "code",
   "execution_count": 7,
   "metadata": {
    "id": "HbpuAS2UqY01"
   },
   "outputs": [
    {
     "data": {
      "text/html": [
       "<div>\n",
       "<style scoped>\n",
       "    .dataframe tbody tr th:only-of-type {\n",
       "        vertical-align: middle;\n",
       "    }\n",
       "\n",
       "    .dataframe tbody tr th {\n",
       "        vertical-align: top;\n",
       "    }\n",
       "\n",
       "    .dataframe thead th {\n",
       "        text-align: right;\n",
       "    }\n",
       "</style>\n",
       "<table border=\"1\" class=\"dataframe\">\n",
       "  <thead>\n",
       "    <tr style=\"text-align: right;\">\n",
       "      <th></th>\n",
       "      <th>#</th>\n",
       "      <th>video_id</th>\n",
       "      <th>video_duration_sec</th>\n",
       "      <th>video_view_count</th>\n",
       "      <th>video_like_count</th>\n",
       "      <th>video_share_count</th>\n",
       "      <th>video_download_count</th>\n",
       "      <th>video_comment_count</th>\n",
       "    </tr>\n",
       "  </thead>\n",
       "  <tbody>\n",
       "    <tr>\n",
       "      <th>count</th>\n",
       "      <td>19382.000000</td>\n",
       "      <td>1.938200e+04</td>\n",
       "      <td>19382.000000</td>\n",
       "      <td>19084.000000</td>\n",
       "      <td>19084.000000</td>\n",
       "      <td>19084.000000</td>\n",
       "      <td>19084.000000</td>\n",
       "      <td>19084.000000</td>\n",
       "    </tr>\n",
       "    <tr>\n",
       "      <th>mean</th>\n",
       "      <td>9691.500000</td>\n",
       "      <td>5.627454e+09</td>\n",
       "      <td>32.421732</td>\n",
       "      <td>254708.558688</td>\n",
       "      <td>84304.636030</td>\n",
       "      <td>16735.248323</td>\n",
       "      <td>1049.429627</td>\n",
       "      <td>349.312146</td>\n",
       "    </tr>\n",
       "    <tr>\n",
       "      <th>std</th>\n",
       "      <td>5595.245794</td>\n",
       "      <td>2.536440e+09</td>\n",
       "      <td>16.229967</td>\n",
       "      <td>322893.280814</td>\n",
       "      <td>133420.546814</td>\n",
       "      <td>32036.174350</td>\n",
       "      <td>2004.299894</td>\n",
       "      <td>799.638865</td>\n",
       "    </tr>\n",
       "    <tr>\n",
       "      <th>min</th>\n",
       "      <td>1.000000</td>\n",
       "      <td>1.234959e+09</td>\n",
       "      <td>5.000000</td>\n",
       "      <td>20.000000</td>\n",
       "      <td>0.000000</td>\n",
       "      <td>0.000000</td>\n",
       "      <td>0.000000</td>\n",
       "      <td>0.000000</td>\n",
       "    </tr>\n",
       "    <tr>\n",
       "      <th>25%</th>\n",
       "      <td>4846.250000</td>\n",
       "      <td>3.430417e+09</td>\n",
       "      <td>18.000000</td>\n",
       "      <td>4942.500000</td>\n",
       "      <td>810.750000</td>\n",
       "      <td>115.000000</td>\n",
       "      <td>7.000000</td>\n",
       "      <td>1.000000</td>\n",
       "    </tr>\n",
       "    <tr>\n",
       "      <th>50%</th>\n",
       "      <td>9691.500000</td>\n",
       "      <td>5.618664e+09</td>\n",
       "      <td>32.000000</td>\n",
       "      <td>9954.500000</td>\n",
       "      <td>3403.500000</td>\n",
       "      <td>717.000000</td>\n",
       "      <td>46.000000</td>\n",
       "      <td>9.000000</td>\n",
       "    </tr>\n",
       "    <tr>\n",
       "      <th>75%</th>\n",
       "      <td>14536.750000</td>\n",
       "      <td>7.843960e+09</td>\n",
       "      <td>47.000000</td>\n",
       "      <td>504327.000000</td>\n",
       "      <td>125020.000000</td>\n",
       "      <td>18222.000000</td>\n",
       "      <td>1156.250000</td>\n",
       "      <td>292.000000</td>\n",
       "    </tr>\n",
       "    <tr>\n",
       "      <th>max</th>\n",
       "      <td>19382.000000</td>\n",
       "      <td>9.999873e+09</td>\n",
       "      <td>60.000000</td>\n",
       "      <td>999817.000000</td>\n",
       "      <td>657830.000000</td>\n",
       "      <td>256130.000000</td>\n",
       "      <td>14994.000000</td>\n",
       "      <td>9599.000000</td>\n",
       "    </tr>\n",
       "  </tbody>\n",
       "</table>\n",
       "</div>"
      ],
      "text/plain": [
       "                  #      video_id  video_duration_sec  video_view_count  \\\n",
       "count  19382.000000  1.938200e+04        19382.000000      19084.000000   \n",
       "mean    9691.500000  5.627454e+09           32.421732     254708.558688   \n",
       "std     5595.245794  2.536440e+09           16.229967     322893.280814   \n",
       "min        1.000000  1.234959e+09            5.000000         20.000000   \n",
       "25%     4846.250000  3.430417e+09           18.000000       4942.500000   \n",
       "50%     9691.500000  5.618664e+09           32.000000       9954.500000   \n",
       "75%    14536.750000  7.843960e+09           47.000000     504327.000000   \n",
       "max    19382.000000  9.999873e+09           60.000000     999817.000000   \n",
       "\n",
       "       video_like_count  video_share_count  video_download_count  \\\n",
       "count      19084.000000       19084.000000          19084.000000   \n",
       "mean       84304.636030       16735.248323           1049.429627   \n",
       "std       133420.546814       32036.174350           2004.299894   \n",
       "min            0.000000           0.000000              0.000000   \n",
       "25%          810.750000         115.000000              7.000000   \n",
       "50%         3403.500000         717.000000             46.000000   \n",
       "75%       125020.000000       18222.000000           1156.250000   \n",
       "max       657830.000000      256130.000000          14994.000000   \n",
       "\n",
       "       video_comment_count  \n",
       "count         19084.000000  \n",
       "mean            349.312146  \n",
       "std             799.638865  \n",
       "min               0.000000  \n",
       "25%               1.000000  \n",
       "50%               9.000000  \n",
       "75%             292.000000  \n",
       "max            9599.000000  "
      ]
     },
     "execution_count": 7,
     "metadata": {},
     "output_type": "execute_result"
    }
   ],
   "source": [
    "# Generate basic descriptive stats\n",
    "data.describe()"
   ]
  },
  {
   "cell_type": "code",
   "execution_count": 8,
   "metadata": {
    "id": "BrunHcfa7xnT"
   },
   "outputs": [
    {
     "data": {
      "text/plain": [
       "#                             0\n",
       "claim_status                298\n",
       "video_id                      0\n",
       "video_duration_sec            0\n",
       "video_transcription_text    298\n",
       "verified_status               0\n",
       "author_ban_status             0\n",
       "video_view_count            298\n",
       "video_like_count            298\n",
       "video_share_count           298\n",
       "video_download_count        298\n",
       "video_comment_count         298\n",
       "dtype: int64"
      ]
     },
     "execution_count": 8,
     "metadata": {},
     "output_type": "execute_result"
    }
   ],
   "source": [
    "# Check for missing values\n",
    "data.isnull().sum(axis = 0)"
   ]
  },
  {
   "cell_type": "code",
   "execution_count": 9,
   "metadata": {
    "id": "SHSj1Hma914I"
   },
   "outputs": [],
   "source": [
    "# Drop rows with missing values\n",
    "data.dropna(inplace=True)"
   ]
  },
  {
   "cell_type": "code",
   "execution_count": 10,
   "metadata": {
    "id": "ZYUF3xap9_Fa"
   },
   "outputs": [
    {
     "data": {
      "text/html": [
       "<div>\n",
       "<style scoped>\n",
       "    .dataframe tbody tr th:only-of-type {\n",
       "        vertical-align: middle;\n",
       "    }\n",
       "\n",
       "    .dataframe tbody tr th {\n",
       "        vertical-align: top;\n",
       "    }\n",
       "\n",
       "    .dataframe thead th {\n",
       "        text-align: right;\n",
       "    }\n",
       "</style>\n",
       "<table border=\"1\" class=\"dataframe\">\n",
       "  <thead>\n",
       "    <tr style=\"text-align: right;\">\n",
       "      <th></th>\n",
       "      <th>#</th>\n",
       "      <th>claim_status</th>\n",
       "      <th>video_id</th>\n",
       "      <th>video_duration_sec</th>\n",
       "      <th>video_transcription_text</th>\n",
       "      <th>verified_status</th>\n",
       "      <th>author_ban_status</th>\n",
       "      <th>video_view_count</th>\n",
       "      <th>video_like_count</th>\n",
       "      <th>video_share_count</th>\n",
       "      <th>video_download_count</th>\n",
       "      <th>video_comment_count</th>\n",
       "    </tr>\n",
       "  </thead>\n",
       "  <tbody>\n",
       "    <tr>\n",
       "      <th>0</th>\n",
       "      <td>1</td>\n",
       "      <td>claim</td>\n",
       "      <td>7017666017</td>\n",
       "      <td>59</td>\n",
       "      <td>someone shared with me that drone deliveries a...</td>\n",
       "      <td>not verified</td>\n",
       "      <td>under review</td>\n",
       "      <td>343296.0</td>\n",
       "      <td>19425.0</td>\n",
       "      <td>241.0</td>\n",
       "      <td>1.0</td>\n",
       "      <td>0.0</td>\n",
       "    </tr>\n",
       "    <tr>\n",
       "      <th>1</th>\n",
       "      <td>2</td>\n",
       "      <td>claim</td>\n",
       "      <td>4014381136</td>\n",
       "      <td>32</td>\n",
       "      <td>someone shared with me that there are more mic...</td>\n",
       "      <td>not verified</td>\n",
       "      <td>active</td>\n",
       "      <td>140877.0</td>\n",
       "      <td>77355.0</td>\n",
       "      <td>19034.0</td>\n",
       "      <td>1161.0</td>\n",
       "      <td>684.0</td>\n",
       "    </tr>\n",
       "    <tr>\n",
       "      <th>2</th>\n",
       "      <td>3</td>\n",
       "      <td>claim</td>\n",
       "      <td>9859838091</td>\n",
       "      <td>31</td>\n",
       "      <td>someone shared with me that american industria...</td>\n",
       "      <td>not verified</td>\n",
       "      <td>active</td>\n",
       "      <td>902185.0</td>\n",
       "      <td>97690.0</td>\n",
       "      <td>2858.0</td>\n",
       "      <td>833.0</td>\n",
       "      <td>329.0</td>\n",
       "    </tr>\n",
       "    <tr>\n",
       "      <th>3</th>\n",
       "      <td>4</td>\n",
       "      <td>claim</td>\n",
       "      <td>1866847991</td>\n",
       "      <td>25</td>\n",
       "      <td>someone shared with me that the metro of st. p...</td>\n",
       "      <td>not verified</td>\n",
       "      <td>active</td>\n",
       "      <td>437506.0</td>\n",
       "      <td>239954.0</td>\n",
       "      <td>34812.0</td>\n",
       "      <td>1234.0</td>\n",
       "      <td>584.0</td>\n",
       "    </tr>\n",
       "    <tr>\n",
       "      <th>4</th>\n",
       "      <td>5</td>\n",
       "      <td>claim</td>\n",
       "      <td>7105231098</td>\n",
       "      <td>19</td>\n",
       "      <td>someone shared with me that the number of busi...</td>\n",
       "      <td>not verified</td>\n",
       "      <td>active</td>\n",
       "      <td>56167.0</td>\n",
       "      <td>34987.0</td>\n",
       "      <td>4110.0</td>\n",
       "      <td>547.0</td>\n",
       "      <td>152.0</td>\n",
       "    </tr>\n",
       "  </tbody>\n",
       "</table>\n",
       "</div>"
      ],
      "text/plain": [
       "   # claim_status    video_id  video_duration_sec  \\\n",
       "0  1        claim  7017666017                  59   \n",
       "1  2        claim  4014381136                  32   \n",
       "2  3        claim  9859838091                  31   \n",
       "3  4        claim  1866847991                  25   \n",
       "4  5        claim  7105231098                  19   \n",
       "\n",
       "                            video_transcription_text verified_status  \\\n",
       "0  someone shared with me that drone deliveries a...    not verified   \n",
       "1  someone shared with me that there are more mic...    not verified   \n",
       "2  someone shared with me that american industria...    not verified   \n",
       "3  someone shared with me that the metro of st. p...    not verified   \n",
       "4  someone shared with me that the number of busi...    not verified   \n",
       "\n",
       "  author_ban_status  video_view_count  video_like_count  video_share_count  \\\n",
       "0      under review          343296.0           19425.0              241.0   \n",
       "1            active          140877.0           77355.0            19034.0   \n",
       "2            active          902185.0           97690.0             2858.0   \n",
       "3            active          437506.0          239954.0            34812.0   \n",
       "4            active           56167.0           34987.0             4110.0   \n",
       "\n",
       "   video_download_count  video_comment_count  \n",
       "0                   1.0                  0.0  \n",
       "1                1161.0                684.0  \n",
       "2                 833.0                329.0  \n",
       "3                1234.0                584.0  \n",
       "4                 547.0                152.0  "
      ]
     },
     "execution_count": 10,
     "metadata": {},
     "output_type": "execute_result"
    }
   ],
   "source": [
    "# Display first few rows after handling missing values\n",
    "data.head()"
   ]
  },
  {
   "cell_type": "code",
   "execution_count": 11,
   "metadata": {
    "id": "IKaGnWIsiHpH"
   },
   "outputs": [
    {
     "data": {
      "text/plain": [
       "np.int64(0)"
      ]
     },
     "execution_count": 11,
     "metadata": {},
     "output_type": "execute_result"
    }
   ],
   "source": [
    "# Check for duplicates\n",
    "data.duplicated().sum()"
   ]
  },
  {
   "cell_type": "markdown",
   "metadata": {
    "id": "k-HcHpGc5Hn7"
   },
   "source": [
    "Check for and handle outliers."
   ]
  },
  {
   "cell_type": "code",
   "execution_count": 12,
   "metadata": {
    "id": "Ts_lcV6qUQHq"
   },
   "outputs": [
    {
     "data": {
      "image/png": "[encoded data removed]",
      "text/plain": [
       "<Figure size 640x480 with 1 Axes>"
      ]
     },
     "metadata": {},
     "output_type": "display_data"
    }
   ],
   "source": [
    "# Create a boxplot to visualize distribution of `video_duration_sec`\n",
    "sns.boxplot(x=\"video_duration_sec\", data=data)\n",
    "plt.title(\"Distribution of Video Duration (in seconds)\")\n",
    "plt.show()"
   ]
  },
  {
   "cell_type": "code",
   "execution_count": 13,
   "metadata": {
    "id": "qlUccI91a4NH"
   },
   "outputs": [
    {
     "data": {
      "image/png": "[encoded data removed]",
      "text/plain": [
       "<Figure size 640x480 with 1 Axes>"
      ]
     },
     "metadata": {},
     "output_type": "display_data"
    }
   ],
   "source": [
    "# Create a boxplot to visualize distribution of `video_view_count`\n",
    "sns.boxplot(x=\"video_view_count\", data=data)\n",
    "plt.title(\"Distribution of Video View Count\")\n",
    "plt.show()"
   ]
  },
  {
   "cell_type": "code",
   "execution_count": 14,
   "metadata": {
    "id": "N0UVdeRUzEEF"
   },
   "outputs": [
    {
     "data": {
      "image/png": "[encoded data removed]",
      "text/plain": [
       "<Figure size 640x480 with 1 Axes>"
      ]
     },
     "metadata": {},
     "output_type": "display_data"
    }
   ],
   "source": [
    "# Create a boxplot to visualize distribution of `video_like_count`\n",
    "sns.boxplot(x=\"video_like_count\", data=data)\n",
    "plt.title(\"Distribution of Video Like Count\")\n",
    "plt.show()"
   ]
  },
  {
   "cell_type": "code",
   "execution_count": 15,
   "metadata": {
    "id": "-gE1fkGo0eG9"
   },
   "outputs": [
    {
     "data": {
      "image/png": "[encoded data removed]",
      "text/plain": [
       "<Figure size 640x480 with 1 Axes>"
      ]
     },
     "metadata": {},
     "output_type": "display_data"
    }
   ],
   "source": [
    "# Create a boxplot to visualize distribution of `video_comment_count`\n",
    "sns.boxplot(x=\"video_comment_count\", data=data)\n",
    "plt.title(\"Distribution of Video Comment Count\")\n",
    "plt.show()"
   ]
  },
  {
   "cell_type": "code",
   "execution_count": 16,
   "metadata": {
    "id": "85JfQprd5Kn9"
   },
   "outputs": [
    {
     "name": "stdout",
     "output_type": "stream",
     "text": [
      "Upper Bound: 311336.75\n",
      "1726\n",
      "Lower Bound: -185505.25\n",
      "0\n"
     ]
    }
   ],
   "source": [
    "# Check for and handle outliers for video_like_count\n",
    "\n",
    "# IQR\n",
    "Q1 = np.percentile(data['video_like_count'], 25, method='midpoint')\n",
    "Q3 = np.percentile(data['video_like_count'], 75, method='midpoint')\n",
    "IQR = Q3 - Q1\n",
    "\n",
    "upper_like = Q3 + 1.5*IQR \n",
    "lower_like = Q1 - 1.5*IQR \n",
    "\n",
    "# Above Upper bound\n",
    "upper_array = np.array(data['video_like_count'] >= upper_like)\n",
    "print(\"Upper Bound:\", upper_like)\n",
    "print(upper_array.sum())\n",
    "\n",
    "# Below Lower bound\n",
    "lower_array = np.array(data['video_like_count'] <= lower_like)\n",
    "print(\"Lower Bound:\", lower_like)\n",
    "print(lower_array.sum())"
   ]
  },
  {
   "cell_type": "code",
   "execution_count": 17,
   "metadata": {},
   "outputs": [],
   "source": [
    "data.loc[data[\"video_like_count\"] > upper_like, \"video_like_count\"] = upper_like"
   ]
  },
  {
   "cell_type": "code",
   "execution_count": 18,
   "metadata": {},
   "outputs": [
    {
     "name": "stdout",
     "output_type": "stream",
     "text": [
      "Upper Bound: 728.5\n",
      "2789\n",
      "Lower Bound: -435.5\n",
      "0\n"
     ]
    }
   ],
   "source": [
    "# Check for and handle outliers for video_comment_count\n",
    "\n",
    "# IQR\n",
    "Q1 = np.percentile(data['video_comment_count'], 25, method='midpoint')\n",
    "Q3 = np.percentile(data['video_comment_count'], 75, method='midpoint')\n",
    "IQR = Q3 - Q1\n",
    "\n",
    "upper_comment = Q3 + 1.5*IQR \n",
    "lower_comment = Q1 - 1.5*IQR \n",
    "\n",
    "# Above Upper bound\n",
    "upper_array = np.array(data['video_comment_count'] >= upper_comment)\n",
    "print(\"Upper Bound:\", upper_comment)\n",
    "print(upper_array.sum())\n",
    "\n",
    "# Below Lower bound\n",
    "lower_array = np.array(data['video_comment_count'] <= lower_comment)\n",
    "print(\"Lower Bound:\", lower_comment)\n",
    "print(lower_array.sum())"
   ]
  },
  {
   "cell_type": "code",
   "execution_count": 19,
   "metadata": {},
   "outputs": [],
   "source": [
    "data.loc[data[\"video_comment_count\"] > upper_comment, \"video_comment_count\"] = upper_comment\n",
    "data.loc[data[\"video_comment_count\"] < lower_comment, \"video_comment_count\"] = lower_comment"
   ]
  },
  {
   "cell_type": "markdown",
   "metadata": {
    "id": "eDcY0ZaEJgDl"
   },
   "source": [
    "Check class balance of the target variable. Remember, the goal is to predict whether the user of a given post is verified or unverified."
   ]
  },
  {
   "cell_type": "code",
   "execution_count": 20,
   "metadata": {
    "id": "e3klRqlsJhtp"
   },
   "outputs": [
    {
     "data": {
      "text/plain": [
       "verified_status\n",
       "not verified    0.93712\n",
       "verified        0.06288\n",
       "Name: proportion, dtype: float64"
      ]
     },
     "execution_count": 20,
     "metadata": {},
     "output_type": "execute_result"
    }
   ],
   "source": [
    "# Check class balance\n",
    "data['verified_status'].value_counts(normalize=True)"
   ]
  },
  {
   "cell_type": "markdown",
   "metadata": {
    "id": "ePYWt2p5LqlW"
   },
   "source": [
    "Approximately 93.7% of the dataset represents videos posted by unverified accounts and 6.2% represents videos posted by verified accounts. So the outcome variable is not very balanced."
   ]
  },
  {
   "cell_type": "markdown",
   "metadata": {
    "id": "zRDMuXjbA9KQ"
   },
   "source": [
    "Use resampling to create class balance in the outcome variable, if needed."
   ]
  },
  {
   "cell_type": "code",
   "execution_count": 21,
   "metadata": {
    "id": "AWhetFT3Ggyp"
   },
   "outputs": [
    {
     "data": {
      "text/plain": [
       "verified_status\n",
       "not verified    0.5\n",
       "verified        0.5\n",
       "Name: proportion, dtype: float64"
      ]
     },
     "execution_count": 21,
     "metadata": {},
     "output_type": "execute_result"
    }
   ],
   "source": [
    "# Use resampling to create class balance in the outcome variable, if needed\n",
    "from sklearn.utils import resample\n",
    "\n",
    "# Identify data points from majority and minority classes\n",
    "majority_class = data[data['verified_status'] == 'not verified']\n",
    "minority_class = data[data['verified_status'] == 'verified']\n",
    "\n",
    "# Upsample the minority class (which is \"verified\")\n",
    "minority_upsampled = resample(minority_class, replace=True, n_samples=len(majority_class), random_state=42)   \n",
    "\n",
    "# Combine majority class with upsampled minority class\n",
    "balanced_data = pd.concat([majority_class, minority_upsampled]).reset_index(drop=True)\n",
    "balanced_data.drop('#', axis=1, inplace=True)\n",
    "\n",
    "# Display new class counts\n",
    "balanced_data['verified_status'].value_counts(normalize=True)"
   ]
  },
  {
   "cell_type": "code",
   "execution_count": 22,
   "metadata": {
    "id": "w-aaFCPCD88e"
   },
   "outputs": [
    {
     "name": "stdout",
     "output_type": "stream",
     "text": [
      "Average video transcription text length:\n",
      "claim_status\n",
      "claim      95.274333\n",
      "opinion    82.581333\n",
      "Name: transcription_length, dtype: float64\n"
     ]
    }
   ],
   "source": [
    "# Get the average `video_transcription_text` length for claims and the average `video_transcription_text` length for opinions\n",
    "balanced_data[\"transcription_length\"] = balanced_data[\"video_transcription_text\"].str.len()\n",
    "\n",
    "# Group by 'claim_status' and calculate average transcription length\n",
    "avg_lengths = balanced_data.groupby(\"claim_status\")[\"transcription_length\"].mean()\n",
    "\n",
    "# Display results\n",
    "print(\"Average video transcription text length:\")\n",
    "print(avg_lengths)"
   ]
  },
  {
   "cell_type": "code",
   "execution_count": 23,
   "metadata": {
    "id": "Vzg0J8UEJ1wx"
   },
   "outputs": [
    {
     "data": {
      "text/html": [
       "<div>\n",
       "<style scoped>\n",
       "    .dataframe tbody tr th:only-of-type {\n",
       "        vertical-align: middle;\n",
       "    }\n",
       "\n",
       "    .dataframe tbody tr th {\n",
       "        vertical-align: top;\n",
       "    }\n",
       "\n",
       "    .dataframe thead th {\n",
       "        text-align: right;\n",
       "    }\n",
       "</style>\n",
       "<table border=\"1\" class=\"dataframe\">\n",
       "  <thead>\n",
       "    <tr style=\"text-align: right;\">\n",
       "      <th></th>\n",
       "      <th>claim_status</th>\n",
       "      <th>video_id</th>\n",
       "      <th>video_duration_sec</th>\n",
       "      <th>video_transcription_text</th>\n",
       "      <th>verified_status</th>\n",
       "      <th>author_ban_status</th>\n",
       "      <th>video_view_count</th>\n",
       "      <th>video_like_count</th>\n",
       "      <th>video_share_count</th>\n",
       "      <th>video_download_count</th>\n",
       "      <th>video_comment_count</th>\n",
       "      <th>transcription_length</th>\n",
       "    </tr>\n",
       "  </thead>\n",
       "  <tbody>\n",
       "    <tr>\n",
       "      <th>0</th>\n",
       "      <td>claim</td>\n",
       "      <td>7017666017</td>\n",
       "      <td>59</td>\n",
       "      <td>someone shared with me that drone deliveries a...</td>\n",
       "      <td>not verified</td>\n",
       "      <td>under review</td>\n",
       "      <td>343296.0</td>\n",
       "      <td>19425.0</td>\n",
       "      <td>241.0</td>\n",
       "      <td>1.0</td>\n",
       "      <td>0.0</td>\n",
       "      <td>97</td>\n",
       "    </tr>\n",
       "    <tr>\n",
       "      <th>1</th>\n",
       "      <td>claim</td>\n",
       "      <td>4014381136</td>\n",
       "      <td>32</td>\n",
       "      <td>someone shared with me that there are more mic...</td>\n",
       "      <td>not verified</td>\n",
       "      <td>active</td>\n",
       "      <td>140877.0</td>\n",
       "      <td>77355.0</td>\n",
       "      <td>19034.0</td>\n",
       "      <td>1161.0</td>\n",
       "      <td>684.0</td>\n",
       "      <td>107</td>\n",
       "    </tr>\n",
       "    <tr>\n",
       "      <th>2</th>\n",
       "      <td>claim</td>\n",
       "      <td>9859838091</td>\n",
       "      <td>31</td>\n",
       "      <td>someone shared with me that american industria...</td>\n",
       "      <td>not verified</td>\n",
       "      <td>active</td>\n",
       "      <td>902185.0</td>\n",
       "      <td>97690.0</td>\n",
       "      <td>2858.0</td>\n",
       "      <td>833.0</td>\n",
       "      <td>329.0</td>\n",
       "      <td>137</td>\n",
       "    </tr>\n",
       "    <tr>\n",
       "      <th>3</th>\n",
       "      <td>claim</td>\n",
       "      <td>1866847991</td>\n",
       "      <td>25</td>\n",
       "      <td>someone shared with me that the metro of st. p...</td>\n",
       "      <td>not verified</td>\n",
       "      <td>active</td>\n",
       "      <td>437506.0</td>\n",
       "      <td>239954.0</td>\n",
       "      <td>34812.0</td>\n",
       "      <td>1234.0</td>\n",
       "      <td>584.0</td>\n",
       "      <td>131</td>\n",
       "    </tr>\n",
       "    <tr>\n",
       "      <th>4</th>\n",
       "      <td>claim</td>\n",
       "      <td>7105231098</td>\n",
       "      <td>19</td>\n",
       "      <td>someone shared with me that the number of busi...</td>\n",
       "      <td>not verified</td>\n",
       "      <td>active</td>\n",
       "      <td>56167.0</td>\n",
       "      <td>34987.0</td>\n",
       "      <td>4110.0</td>\n",
       "      <td>547.0</td>\n",
       "      <td>152.0</td>\n",
       "      <td>128</td>\n",
       "    </tr>\n",
       "  </tbody>\n",
       "</table>\n",
       "</div>"
      ],
      "text/plain": [
       "  claim_status    video_id  video_duration_sec  \\\n",
       "0        claim  7017666017                  59   \n",
       "1        claim  4014381136                  32   \n",
       "2        claim  9859838091                  31   \n",
       "3        claim  1866847991                  25   \n",
       "4        claim  7105231098                  19   \n",
       "\n",
       "                            video_transcription_text verified_status  \\\n",
       "0  someone shared with me that drone deliveries a...    not verified   \n",
       "1  someone shared with me that there are more mic...    not verified   \n",
       "2  someone shared with me that american industria...    not verified   \n",
       "3  someone shared with me that the metro of st. p...    not verified   \n",
       "4  someone shared with me that the number of busi...    not verified   \n",
       "\n",
       "  author_ban_status  video_view_count  video_like_count  video_share_count  \\\n",
       "0      under review          343296.0           19425.0              241.0   \n",
       "1            active          140877.0           77355.0            19034.0   \n",
       "2            active          902185.0           97690.0             2858.0   \n",
       "3            active          437506.0          239954.0            34812.0   \n",
       "4            active           56167.0           34987.0             4110.0   \n",
       "\n",
       "   video_download_count  video_comment_count  transcription_length  \n",
       "0                   1.0                  0.0                    97  \n",
       "1                1161.0                684.0                   107  \n",
       "2                 833.0                329.0                   137  \n",
       "3                1234.0                584.0                   131  \n",
       "4                 547.0                152.0                   128  "
      ]
     },
     "execution_count": 23,
     "metadata": {},
     "output_type": "execute_result"
    }
   ],
   "source": [
    "# Display first few rows of dataframe after adding new column\n",
    "balanced_data.head()"
   ]
  },
  {
   "cell_type": "code",
   "execution_count": 24,
   "metadata": {
    "id": "MSq136S3TIYe"
   },
   "outputs": [
    {
     "data": {
      "image/png": "[encoded data removed]",
      "text/plain": [
       "<Figure size 640x480 with 1 Axes>"
      ]
     },
     "metadata": {},
     "output_type": "display_data"
    }
   ],
   "source": [
    "# Visualize the distribution of `video_transcription_text` length for videos posted by verified accounts and videos posted by unverified accounts\n",
    "# Create two histograms in one plot\n",
    "\n",
    "verified = balanced_data[balanced_data[\"verified_status\"] == \"verified\"][\"transcription_length\"]\n",
    "unverified = balanced_data[balanced_data[\"verified_status\"] == \"not verified\"][\"transcription_length\"]\n",
    "\n",
    "plt.hist(verified, alpha=0.5, label='Verified Accounts')\n",
    "plt.hist(unverified, alpha=0.5, label='Unverified Accounts')\n",
    "plt.legend(loc='upper right')\n",
    "plt.show()"
   ]
  },
  {
   "cell_type": "markdown",
   "metadata": {
    "id": "KlF7ZNSyW0yV"
   },
   "source": [
    "### **Examine correlations**"
   ]
  },
  {
   "cell_type": "code",
   "execution_count": 25,
   "metadata": {
    "id": "KCEzE-gwL5gq"
   },
   "outputs": [
    {
     "data": {
      "text/html": [
       "<div>\n",
       "<style scoped>\n",
       "    .dataframe tbody tr th:only-of-type {\n",
       "        vertical-align: middle;\n",
       "    }\n",
       "\n",
       "    .dataframe tbody tr th {\n",
       "        vertical-align: top;\n",
       "    }\n",
       "\n",
       "    .dataframe thead th {\n",
       "        text-align: right;\n",
       "    }\n",
       "</style>\n",
       "<table border=\"1\" class=\"dataframe\">\n",
       "  <thead>\n",
       "    <tr style=\"text-align: right;\">\n",
       "      <th></th>\n",
       "      <th>video_duration_sec</th>\n",
       "      <th>video_view_count</th>\n",
       "      <th>video_like_count</th>\n",
       "      <th>video_share_count</th>\n",
       "      <th>video_download_count</th>\n",
       "      <th>video_comment_count</th>\n",
       "      <th>transcription_length</th>\n",
       "    </tr>\n",
       "  </thead>\n",
       "  <tbody>\n",
       "    <tr>\n",
       "      <th>video_duration_sec</th>\n",
       "      <td>1.000000</td>\n",
       "      <td>0.013892</td>\n",
       "      <td>0.004028</td>\n",
       "      <td>0.001944</td>\n",
       "      <td>0.006930</td>\n",
       "      <td>-0.000080</td>\n",
       "      <td>-0.005043</td>\n",
       "    </tr>\n",
       "    <tr>\n",
       "      <th>video_view_count</th>\n",
       "      <td>0.013892</td>\n",
       "      <td>1.000000</td>\n",
       "      <td>0.855342</td>\n",
       "      <td>0.710466</td>\n",
       "      <td>0.691557</td>\n",
       "      <td>0.747564</td>\n",
       "      <td>0.246867</td>\n",
       "    </tr>\n",
       "    <tr>\n",
       "      <th>video_like_count</th>\n",
       "      <td>0.004028</td>\n",
       "      <td>0.855342</td>\n",
       "      <td>1.000000</td>\n",
       "      <td>0.832361</td>\n",
       "      <td>0.806370</td>\n",
       "      <td>0.816416</td>\n",
       "      <td>0.217852</td>\n",
       "    </tr>\n",
       "    <tr>\n",
       "      <th>video_share_count</th>\n",
       "      <td>0.001944</td>\n",
       "      <td>0.710466</td>\n",
       "      <td>0.832361</td>\n",
       "      <td>1.000000</td>\n",
       "      <td>0.709738</td>\n",
       "      <td>0.671601</td>\n",
       "      <td>0.176362</td>\n",
       "    </tr>\n",
       "    <tr>\n",
       "      <th>video_download_count</th>\n",
       "      <td>0.006930</td>\n",
       "      <td>0.691557</td>\n",
       "      <td>0.806370</td>\n",
       "      <td>0.709738</td>\n",
       "      <td>1.000000</td>\n",
       "      <td>0.794524</td>\n",
       "      <td>0.175287</td>\n",
       "    </tr>\n",
       "    <tr>\n",
       "      <th>video_comment_count</th>\n",
       "      <td>-0.000080</td>\n",
       "      <td>0.747564</td>\n",
       "      <td>0.816416</td>\n",
       "      <td>0.671601</td>\n",
       "      <td>0.794524</td>\n",
       "      <td>1.000000</td>\n",
       "      <td>0.217179</td>\n",
       "    </tr>\n",
       "    <tr>\n",
       "      <th>transcription_length</th>\n",
       "      <td>-0.005043</td>\n",
       "      <td>0.246867</td>\n",
       "      <td>0.217852</td>\n",
       "      <td>0.176362</td>\n",
       "      <td>0.175287</td>\n",
       "      <td>0.217179</td>\n",
       "      <td>1.000000</td>\n",
       "    </tr>\n",
       "  </tbody>\n",
       "</table>\n",
       "</div>"
      ],
      "text/plain": [
       "                      video_duration_sec  video_view_count  video_like_count  \\\n",
       "video_duration_sec              1.000000          0.013892          0.004028   \n",
       "video_view_count                0.013892          1.000000          0.855342   \n",
       "video_like_count                0.004028          0.855342          1.000000   \n",
       "video_share_count               0.001944          0.710466          0.832361   \n",
       "video_download_count            0.006930          0.691557          0.806370   \n",
       "video_comment_count            -0.000080          0.747564          0.816416   \n",
       "transcription_length           -0.005043          0.246867          0.217852   \n",
       "\n",
       "                      video_share_count  video_download_count  \\\n",
       "video_duration_sec             0.001944              0.006930   \n",
       "video_view_count               0.710466              0.691557   \n",
       "video_like_count               0.832361              0.806370   \n",
       "video_share_count              1.000000              0.709738   \n",
       "video_download_count           0.709738              1.000000   \n",
       "video_comment_count            0.671601              0.794524   \n",
       "transcription_length           0.176362              0.175287   \n",
       "\n",
       "                      video_comment_count  transcription_length  \n",
       "video_duration_sec              -0.000080             -0.005043  \n",
       "video_view_count                 0.747564              0.246867  \n",
       "video_like_count                 0.816416              0.217852  \n",
       "video_share_count                0.671601              0.176362  \n",
       "video_download_count             0.794524              0.175287  \n",
       "video_comment_count              1.000000              0.217179  \n",
       "transcription_length             0.217179              1.000000  "
      ]
     },
     "execution_count": 25,
     "metadata": {},
     "output_type": "execute_result"
    }
   ],
   "source": [
    "# Code a correlation matrix to help determine most correlated variables\n",
    "numeric_data = balanced_data.select_dtypes(include = ['float64', 'int64']).drop('video_id', axis=1)\n",
    "corr_matrix = numeric_data.corr()\n",
    "corr_matrix"
   ]
  },
  {
   "cell_type": "code",
   "execution_count": 26,
   "metadata": {
    "id": "8Ti_MFF7tekR"
   },
   "outputs": [
    {
     "data": {
      "image/png": "[encoded data removed]",
      "text/plain": [
       "<Figure size 600x400 with 2 Axes>"
      ]
     },
     "metadata": {},
     "output_type": "display_data"
    }
   ],
   "source": [
    "# Create a heatmap to visualize how correlated variables are\n",
    "plt.figure(figsize=(6, 4))\n",
    "sns.heatmap(corr_matrix, annot=True, fmt=\".2f\")\n",
    "plt.show()"
   ]
  },
  {
   "cell_type": "markdown",
   "metadata": {
    "id": "zyQgcrDI00bT"
   },
   "source": [
    "One of the model assumptions for logistic regression is no severe multicollinearity among the features. \n",
    "\n",
    "From the heatmap (or correlation matrix), we can spot strong correlations (close to 1.0) between some features. These are red flags for multicollinearity, which violates logistic regression assumptions.\n",
    "\n",
    "**Variables that are strongly correlated:**\n",
    "\n",
    "- video_view_count, video_like_count, video_share_count, video_download_count, and video_comment_count are highly correlated with each other (many correlations > 0.8).\n",
    "\n",
    "- video_duration_sec and transcription_length are not highly correlated with the others.\n",
    "\n"
   ]
  },
  {
   "cell_type": "markdown",
   "metadata": {
    "id": "lgPul2DiY6T4"
   },
   "source": [
    "## **PACE: Construct**\n",
    "\n",
    "After analysis and deriving variables with close relationships, it is time to begin constructing the model. "
   ]
  },
  {
   "cell_type": "markdown",
   "metadata": {
    "id": "07UJJm41ajgf"
   },
   "source": [
    "### **Select variables**"
   ]
  },
  {
   "cell_type": "code",
   "execution_count": 27,
   "metadata": {
    "id": "uH6jiQECBgFn"
   },
   "outputs": [],
   "source": [
    "# Select outcome variable\n",
    "y = balanced_data['verified_status']"
   ]
  },
  {
   "cell_type": "markdown",
   "metadata": {
    "id": "WPxEovpUBZfk"
   },
   "source": [
    "Select the features."
   ]
  },
  {
   "cell_type": "code",
   "execution_count": 28,
   "metadata": {
    "id": "iJ5C6M5zCP3k"
   },
   "outputs": [
    {
     "data": {
      "text/html": [
       "<div>\n",
       "<style scoped>\n",
       "    .dataframe tbody tr th:only-of-type {\n",
       "        vertical-align: middle;\n",
       "    }\n",
       "\n",
       "    .dataframe tbody tr th {\n",
       "        vertical-align: top;\n",
       "    }\n",
       "\n",
       "    .dataframe thead th {\n",
       "        text-align: right;\n",
       "    }\n",
       "</style>\n",
       "<table border=\"1\" class=\"dataframe\">\n",
       "  <thead>\n",
       "    <tr style=\"text-align: right;\">\n",
       "      <th></th>\n",
       "      <th>video_view_count</th>\n",
       "      <th>video_duration_sec</th>\n",
       "      <th>transcription_length</th>\n",
       "      <th>claim_status</th>\n",
       "      <th>author_ban_status</th>\n",
       "    </tr>\n",
       "  </thead>\n",
       "  <tbody>\n",
       "    <tr>\n",
       "      <th>0</th>\n",
       "      <td>343296.0</td>\n",
       "      <td>59</td>\n",
       "      <td>97</td>\n",
       "      <td>claim</td>\n",
       "      <td>under review</td>\n",
       "    </tr>\n",
       "    <tr>\n",
       "      <th>1</th>\n",
       "      <td>140877.0</td>\n",
       "      <td>32</td>\n",
       "      <td>107</td>\n",
       "      <td>claim</td>\n",
       "      <td>active</td>\n",
       "    </tr>\n",
       "    <tr>\n",
       "      <th>2</th>\n",
       "      <td>902185.0</td>\n",
       "      <td>31</td>\n",
       "      <td>137</td>\n",
       "      <td>claim</td>\n",
       "      <td>active</td>\n",
       "    </tr>\n",
       "    <tr>\n",
       "      <th>3</th>\n",
       "      <td>437506.0</td>\n",
       "      <td>25</td>\n",
       "      <td>131</td>\n",
       "      <td>claim</td>\n",
       "      <td>active</td>\n",
       "    </tr>\n",
       "    <tr>\n",
       "      <th>4</th>\n",
       "      <td>56167.0</td>\n",
       "      <td>19</td>\n",
       "      <td>128</td>\n",
       "      <td>claim</td>\n",
       "      <td>active</td>\n",
       "    </tr>\n",
       "  </tbody>\n",
       "</table>\n",
       "</div>"
      ],
      "text/plain": [
       "   video_view_count  video_duration_sec  transcription_length claim_status  \\\n",
       "0          343296.0                  59                    97        claim   \n",
       "1          140877.0                  32                   107        claim   \n",
       "2          902185.0                  31                   137        claim   \n",
       "3          437506.0                  25                   131        claim   \n",
       "4           56167.0                  19                   128        claim   \n",
       "\n",
       "  author_ban_status  \n",
       "0      under review  \n",
       "1            active  \n",
       "2            active  \n",
       "3            active  \n",
       "4            active  "
      ]
     },
     "execution_count": 28,
     "metadata": {},
     "output_type": "execute_result"
    }
   ],
   "source": [
    "# Select features\n",
    "\n",
    "selected_features = [\n",
    "    'video_view_count',\n",
    "    'video_duration_sec',\n",
    "    'transcription_length',\n",
    "    'claim_status', \n",
    "    'author_ban_status',\n",
    "    \n",
    "]\n",
    "\n",
    "# Display first few rows of features dataframe\n",
    "X = balanced_data[selected_features]\n",
    "X.head()"
   ]
  },
  {
   "cell_type": "markdown",
   "metadata": {
    "id": "gPIBz0-HDEqd"
   },
   "source": [
    "### **Train-test split**"
   ]
  },
  {
   "cell_type": "code",
   "execution_count": 29,
   "metadata": {
    "id": "jKgrew0V6o_3"
   },
   "outputs": [],
   "source": [
    "# Split the data into training and testing sets\n",
    "X_train, X_test, y_train, y_test = train_test_split(X, y, test_size=0.3, random_state=42)"
   ]
  },
  {
   "cell_type": "markdown",
   "metadata": {
    "id": "5VlklzoujrAR"
   },
   "source": [
    "Confirm that the dimensions of the training and testing sets are in alignment."
   ]
  },
  {
   "cell_type": "code",
   "execution_count": 30,
   "metadata": {
    "id": "xgbB1NCtfxcc"
   },
   "outputs": [
    {
     "name": "stdout",
     "output_type": "stream",
     "text": [
      "X_train has 25037 rows and 5 columns\n",
      "X_test has 10731 rows and 5 columns\n"
     ]
    }
   ],
   "source": [
    "# Get shape of each training and testing set\n",
    "print(f\"X_train has {X_train.shape[0]} rows and {X_train.shape[1]} columns\")\n",
    "print(f\"X_test has {X_test.shape[0]} rows and {X_test.shape[1]} columns\")"
   ]
  },
  {
   "cell_type": "markdown",
   "metadata": {
    "id": "V7PjlXFuDRp_"
   },
   "source": [
    "### **Encode variables**"
   ]
  },
  {
   "cell_type": "markdown",
   "metadata": {
    "id": "rbpnEjop82zL"
   },
   "source": [
    "Check the data types of the features."
   ]
  },
  {
   "cell_type": "code",
   "execution_count": 31,
   "metadata": {
    "id": "TefBRXUu8zWR"
   },
   "outputs": [
    {
     "name": "stdout",
     "output_type": "stream",
     "text": [
      "<class 'pandas.core.frame.DataFrame'>\n",
      "Index: 25037 entries, 33627 to 15795\n",
      "Data columns (total 5 columns):\n",
      " #   Column                Non-Null Count  Dtype  \n",
      "---  ------                --------------  -----  \n",
      " 0   video_view_count      25037 non-null  float64\n",
      " 1   video_duration_sec    25037 non-null  int64  \n",
      " 2   transcription_length  25037 non-null  int64  \n",
      " 3   claim_status          25037 non-null  object \n",
      " 4   author_ban_status     25037 non-null  object \n",
      "dtypes: float64(1), int64(2), object(2)\n",
      "memory usage: 1.1+ MB\n"
     ]
    }
   ],
   "source": [
    "# Check data types\n",
    "X_train.info()"
   ]
  },
  {
   "cell_type": "code",
   "execution_count": 32,
   "metadata": {
    "id": "gT1YqFZc-uBF"
   },
   "outputs": [
    {
     "data": {
      "text/plain": [
       "array(['opinion', 'claim'], dtype=object)"
      ]
     },
     "execution_count": 32,
     "metadata": {},
     "output_type": "execute_result"
    }
   ],
   "source": [
    "# Get unique values in `claim_status`\n",
    "X_train['claim_status'].unique()"
   ]
  },
  {
   "cell_type": "code",
   "execution_count": 33,
   "metadata": {
    "id": "uSnObsvy-wpz"
   },
   "outputs": [
    {
     "data": {
      "text/plain": [
       "array(['active', 'banned', 'under review'], dtype=object)"
      ]
     },
     "execution_count": 33,
     "metadata": {},
     "output_type": "execute_result"
    }
   ],
   "source": [
    "# Get unique values in `author_ban_status`\n",
    "X_train['author_ban_status'].unique()"
   ]
  },
  {
   "cell_type": "markdown",
   "metadata": {
    "id": "PKSSWs39xYWH"
   },
   "source": [
    "As shown above, the `claim_status` and `author_ban_status` features are each of data type `object` currently. In order to work with the implementations of models through `sklearn`, these categorical features will need to be made numeric. One way to do this is through one-hot encoding.\n",
    "\n",
    "Encode categorical features in the training set using an appropriate method."
   ]
  },
  {
   "cell_type": "code",
   "execution_count": 34,
   "metadata": {
    "id": "mlMTSyaTcBct"
   },
   "outputs": [
    {
     "data": {
      "text/html": [
       "<div>\n",
       "<style scoped>\n",
       "    .dataframe tbody tr th:only-of-type {\n",
       "        vertical-align: middle;\n",
       "    }\n",
       "\n",
       "    .dataframe tbody tr th {\n",
       "        vertical-align: top;\n",
       "    }\n",
       "\n",
       "    .dataframe thead th {\n",
       "        text-align: right;\n",
       "    }\n",
       "</style>\n",
       "<table border=\"1\" class=\"dataframe\">\n",
       "  <thead>\n",
       "    <tr style=\"text-align: right;\">\n",
       "      <th></th>\n",
       "      <th>claim_status</th>\n",
       "      <th>author_ban_status</th>\n",
       "    </tr>\n",
       "  </thead>\n",
       "  <tbody>\n",
       "    <tr>\n",
       "      <th>33627</th>\n",
       "      <td>opinion</td>\n",
       "      <td>active</td>\n",
       "    </tr>\n",
       "    <tr>\n",
       "      <th>32177</th>\n",
       "      <td>opinion</td>\n",
       "      <td>active</td>\n",
       "    </tr>\n",
       "    <tr>\n",
       "      <th>17038</th>\n",
       "      <td>opinion</td>\n",
       "      <td>active</td>\n",
       "    </tr>\n",
       "    <tr>\n",
       "      <th>91</th>\n",
       "      <td>claim</td>\n",
       "      <td>banned</td>\n",
       "    </tr>\n",
       "    <tr>\n",
       "      <th>25378</th>\n",
       "      <td>opinion</td>\n",
       "      <td>active</td>\n",
       "    </tr>\n",
       "  </tbody>\n",
       "</table>\n",
       "</div>"
      ],
      "text/plain": [
       "      claim_status author_ban_status\n",
       "33627      opinion            active\n",
       "32177      opinion            active\n",
       "17038      opinion            active\n",
       "91           claim            banned\n",
       "25378      opinion            active"
      ]
     },
     "execution_count": 34,
     "metadata": {},
     "output_type": "execute_result"
    }
   ],
   "source": [
    "# Select the training features that needs to be encoded\n",
    "encoding_features = ['claim_status', 'author_ban_status']\n",
    "\n",
    "# Display first few rows\n",
    "X_train[encoding_features].head()"
   ]
  },
  {
   "cell_type": "code",
   "execution_count": 35,
   "metadata": {
    "id": "lSM5lQioAjex"
   },
   "outputs": [],
   "source": [
    "# Set up an encoder for one-hot encoding the categorical features\n",
    "ohe = OneHotEncoder(drop='first', sparse_output=False)"
   ]
  },
  {
   "cell_type": "code",
   "execution_count": 36,
   "metadata": {
    "id": "PH_KGRJApBM_"
   },
   "outputs": [],
   "source": [
    "# Fit and transform the training features using the encoder\n",
    "X_train_encoded = ohe.fit_transform(X_train[encoding_features])"
   ]
  },
  {
   "cell_type": "code",
   "execution_count": 37,
   "metadata": {
    "id": "j57gJjIFpyO_"
   },
   "outputs": [
    {
     "data": {
      "text/plain": [
       "array(['claim_status_opinion', 'author_ban_status_banned',\n",
       "       'author_ban_status_under review'], dtype=object)"
      ]
     },
     "execution_count": 37,
     "metadata": {},
     "output_type": "execute_result"
    }
   ],
   "source": [
    "# Get feature names from encoder\n",
    "ohe.get_feature_names_out()"
   ]
  },
  {
   "cell_type": "code",
   "execution_count": 38,
   "metadata": {
    "id": "2vSYk7n7phDI"
   },
   "outputs": [
    {
     "data": {
      "text/plain": [
       "array([[1., 0., 0.],\n",
       "       [1., 0., 0.],\n",
       "       [1., 0., 0.]])"
      ]
     },
     "execution_count": 38,
     "metadata": {},
     "output_type": "execute_result"
    }
   ],
   "source": [
    "# Display first few rows of encoded training features\n",
    "X_train_encoded[:3]"
   ]
  },
  {
   "cell_type": "code",
   "execution_count": 39,
   "metadata": {
    "id": "jAn10kA9qcUa"
   },
   "outputs": [
    {
     "data": {
      "text/html": [
       "<div>\n",
       "<style scoped>\n",
       "    .dataframe tbody tr th:only-of-type {\n",
       "        vertical-align: middle;\n",
       "    }\n",
       "\n",
       "    .dataframe tbody tr th {\n",
       "        vertical-align: top;\n",
       "    }\n",
       "\n",
       "    .dataframe thead th {\n",
       "        text-align: right;\n",
       "    }\n",
       "</style>\n",
       "<table border=\"1\" class=\"dataframe\">\n",
       "  <thead>\n",
       "    <tr style=\"text-align: right;\">\n",
       "      <th></th>\n",
       "      <th>claim_status_opinion</th>\n",
       "      <th>author_ban_status_banned</th>\n",
       "      <th>author_ban_status_under_review</th>\n",
       "    </tr>\n",
       "  </thead>\n",
       "  <tbody>\n",
       "    <tr>\n",
       "      <th>0</th>\n",
       "      <td>1.0</td>\n",
       "      <td>0.0</td>\n",
       "      <td>0.0</td>\n",
       "    </tr>\n",
       "    <tr>\n",
       "      <th>1</th>\n",
       "      <td>1.0</td>\n",
       "      <td>0.0</td>\n",
       "      <td>0.0</td>\n",
       "    </tr>\n",
       "    <tr>\n",
       "      <th>2</th>\n",
       "      <td>1.0</td>\n",
       "      <td>0.0</td>\n",
       "      <td>0.0</td>\n",
       "    </tr>\n",
       "    <tr>\n",
       "      <th>3</th>\n",
       "      <td>0.0</td>\n",
       "      <td>1.0</td>\n",
       "      <td>0.0</td>\n",
       "    </tr>\n",
       "    <tr>\n",
       "      <th>4</th>\n",
       "      <td>1.0</td>\n",
       "      <td>0.0</td>\n",
       "      <td>0.0</td>\n",
       "    </tr>\n",
       "  </tbody>\n",
       "</table>\n",
       "</div>"
      ],
      "text/plain": [
       "   claim_status_opinion  author_ban_status_banned  \\\n",
       "0                   1.0                       0.0   \n",
       "1                   1.0                       0.0   \n",
       "2                   1.0                       0.0   \n",
       "3                   0.0                       1.0   \n",
       "4                   1.0                       0.0   \n",
       "\n",
       "   author_ban_status_under_review  \n",
       "0                             0.0  \n",
       "1                             0.0  \n",
       "2                             0.0  \n",
       "3                             0.0  \n",
       "4                             0.0  "
      ]
     },
     "execution_count": 39,
     "metadata": {},
     "output_type": "execute_result"
    }
   ],
   "source": [
    "# Place encoded training features (which is currently an array) into a dataframe\n",
    "X_train_encoded_df = pd.DataFrame(X_train_encoded, \n",
    "                                columns=['claim_status_opinion', 'author_ban_status_banned', \n",
    "                                         'author_ban_status_under_review'])\n",
    "\n",
    "# Display first few rows\n",
    "X_train_encoded_df.head()"
   ]
  },
  {
   "cell_type": "code",
   "execution_count": 40,
   "metadata": {
    "id": "7pdBRVwnuwc0"
   },
   "outputs": [
    {
     "data": {
      "text/html": [
       "<div>\n",
       "<style scoped>\n",
       "    .dataframe tbody tr th:only-of-type {\n",
       "        vertical-align: middle;\n",
       "    }\n",
       "\n",
       "    .dataframe tbody tr th {\n",
       "        vertical-align: top;\n",
       "    }\n",
       "\n",
       "    .dataframe thead th {\n",
       "        text-align: right;\n",
       "    }\n",
       "</style>\n",
       "<table border=\"1\" class=\"dataframe\">\n",
       "  <thead>\n",
       "    <tr style=\"text-align: right;\">\n",
       "      <th></th>\n",
       "      <th>video_view_count</th>\n",
       "      <th>video_duration_sec</th>\n",
       "      <th>transcription_length</th>\n",
       "    </tr>\n",
       "  </thead>\n",
       "  <tbody>\n",
       "    <tr>\n",
       "      <th>0</th>\n",
       "      <td>1235.0</td>\n",
       "      <td>58</td>\n",
       "      <td>97</td>\n",
       "    </tr>\n",
       "    <tr>\n",
       "      <th>1</th>\n",
       "      <td>5510.0</td>\n",
       "      <td>11</td>\n",
       "      <td>103</td>\n",
       "    </tr>\n",
       "    <tr>\n",
       "      <th>2</th>\n",
       "      <td>7496.0</td>\n",
       "      <td>38</td>\n",
       "      <td>96</td>\n",
       "    </tr>\n",
       "    <tr>\n",
       "      <th>3</th>\n",
       "      <td>436875.0</td>\n",
       "      <td>37</td>\n",
       "      <td>99</td>\n",
       "    </tr>\n",
       "    <tr>\n",
       "      <th>4</th>\n",
       "      <td>955.0</td>\n",
       "      <td>30</td>\n",
       "      <td>59</td>\n",
       "    </tr>\n",
       "  </tbody>\n",
       "</table>\n",
       "</div>"
      ],
      "text/plain": [
       "   video_view_count  video_duration_sec  transcription_length\n",
       "0            1235.0                  58                    97\n",
       "1            5510.0                  11                   103\n",
       "2            7496.0                  38                    96\n",
       "3          436875.0                  37                    99\n",
       "4             955.0                  30                    59"
      ]
     },
     "execution_count": 40,
     "metadata": {},
     "output_type": "execute_result"
    }
   ],
   "source": [
    "# Display first few rows of `X_train` with `claim_status` and `author_ban_status` columns dropped (since these features are being transformed to numeric)\n",
    "X_train = X_train.drop(columns=encoding_features).reset_index(drop=True)\n",
    "X_train.head()"
   ]
  },
  {
   "cell_type": "code",
   "execution_count": 41,
   "metadata": {
    "id": "qKG1TK-KEfuB"
   },
   "outputs": [
    {
     "data": {
      "text/html": [
       "<div>\n",
       "<style scoped>\n",
       "    .dataframe tbody tr th:only-of-type {\n",
       "        vertical-align: middle;\n",
       "    }\n",
       "\n",
       "    .dataframe tbody tr th {\n",
       "        vertical-align: top;\n",
       "    }\n",
       "\n",
       "    .dataframe thead th {\n",
       "        text-align: right;\n",
       "    }\n",
       "</style>\n",
       "<table border=\"1\" class=\"dataframe\">\n",
       "  <thead>\n",
       "    <tr style=\"text-align: right;\">\n",
       "      <th></th>\n",
       "      <th>video_view_count</th>\n",
       "      <th>video_duration_sec</th>\n",
       "      <th>transcription_length</th>\n",
       "      <th>claim_status_opinion</th>\n",
       "      <th>author_ban_status_banned</th>\n",
       "      <th>author_ban_status_under_review</th>\n",
       "    </tr>\n",
       "  </thead>\n",
       "  <tbody>\n",
       "    <tr>\n",
       "      <th>0</th>\n",
       "      <td>1235.0</td>\n",
       "      <td>58</td>\n",
       "      <td>97</td>\n",
       "      <td>1.0</td>\n",
       "      <td>0.0</td>\n",
       "      <td>0.0</td>\n",
       "    </tr>\n",
       "    <tr>\n",
       "      <th>1</th>\n",
       "      <td>5510.0</td>\n",
       "      <td>11</td>\n",
       "      <td>103</td>\n",
       "      <td>1.0</td>\n",
       "      <td>0.0</td>\n",
       "      <td>0.0</td>\n",
       "    </tr>\n",
       "    <tr>\n",
       "      <th>2</th>\n",
       "      <td>7496.0</td>\n",
       "      <td>38</td>\n",
       "      <td>96</td>\n",
       "      <td>1.0</td>\n",
       "      <td>0.0</td>\n",
       "      <td>0.0</td>\n",
       "    </tr>\n",
       "    <tr>\n",
       "      <th>3</th>\n",
       "      <td>436875.0</td>\n",
       "      <td>37</td>\n",
       "      <td>99</td>\n",
       "      <td>0.0</td>\n",
       "      <td>1.0</td>\n",
       "      <td>0.0</td>\n",
       "    </tr>\n",
       "    <tr>\n",
       "      <th>4</th>\n",
       "      <td>955.0</td>\n",
       "      <td>30</td>\n",
       "      <td>59</td>\n",
       "      <td>1.0</td>\n",
       "      <td>0.0</td>\n",
       "      <td>0.0</td>\n",
       "    </tr>\n",
       "  </tbody>\n",
       "</table>\n",
       "</div>"
      ],
      "text/plain": [
       "   video_view_count  video_duration_sec  transcription_length  \\\n",
       "0            1235.0                  58                    97   \n",
       "1            5510.0                  11                   103   \n",
       "2            7496.0                  38                    96   \n",
       "3          436875.0                  37                    99   \n",
       "4             955.0                  30                    59   \n",
       "\n",
       "   claim_status_opinion  author_ban_status_banned  \\\n",
       "0                   1.0                       0.0   \n",
       "1                   1.0                       0.0   \n",
       "2                   1.0                       0.0   \n",
       "3                   0.0                       1.0   \n",
       "4                   1.0                       0.0   \n",
       "\n",
       "   author_ban_status_under_review  \n",
       "0                             0.0  \n",
       "1                             0.0  \n",
       "2                             0.0  \n",
       "3                             0.0  \n",
       "4                             0.0  "
      ]
     },
     "execution_count": 41,
     "metadata": {},
     "output_type": "execute_result"
    }
   ],
   "source": [
    "X_train_final = pd.concat([X_train, X_train_encoded_df], axis=1)\n",
    "\n",
    "# Display first few rows\n",
    "X_train_final.head()"
   ]
  },
  {
   "cell_type": "code",
   "execution_count": 42,
   "metadata": {
    "id": "QNu4ndvufeP2"
   },
   "outputs": [
    {
     "name": "stdout",
     "output_type": "stream",
     "text": [
      "<class 'pandas.core.frame.DataFrame'>\n",
      "RangeIndex: 25037 entries, 0 to 25036\n",
      "Data columns (total 6 columns):\n",
      " #   Column                          Non-Null Count  Dtype  \n",
      "---  ------                          --------------  -----  \n",
      " 0   video_view_count                25037 non-null  float64\n",
      " 1   video_duration_sec              25037 non-null  int64  \n",
      " 2   transcription_length            25037 non-null  int64  \n",
      " 3   claim_status_opinion            25037 non-null  float64\n",
      " 4   author_ban_status_banned        25037 non-null  float64\n",
      " 5   author_ban_status_under_review  25037 non-null  float64\n",
      "dtypes: float64(4), int64(2)\n",
      "memory usage: 1.1 MB\n"
     ]
    }
   ],
   "source": [
    "# Check data type of outcome variable\n",
    "X_train_final.info()"
   ]
  },
  {
   "cell_type": "code",
   "execution_count": 43,
   "metadata": {
    "id": "23VVtIeD9fet"
   },
   "outputs": [
    {
     "data": {
      "text/plain": [
       "array(['verified', 'not verified'], dtype=object)"
      ]
     },
     "execution_count": 43,
     "metadata": {},
     "output_type": "execute_result"
    }
   ],
   "source": [
    "# Get unique values of outcome variable\n",
    "y_train.unique()"
   ]
  },
  {
   "cell_type": "markdown",
   "metadata": {
    "id": "YBUb24WDyAiA"
   },
   "source": [
    "A shown above, the outcome variable is of data type `object` currently. One-hot encoding can be used to make this variable numeric."
   ]
  },
  {
   "cell_type": "code",
   "execution_count": 44,
   "metadata": {
    "id": "xGeLvAbgIBGh"
   },
   "outputs": [],
   "source": [
    "# Set up an encoder for one-hot encoding the categorical outcome variable\n",
    "ohe_label = OneHotEncoder(drop='first', sparse_output=False)"
   ]
  },
  {
   "cell_type": "code",
   "execution_count": 45,
   "metadata": {
    "id": "qJKcy7sqGeSC"
   },
   "outputs": [
    {
     "data": {
      "text/plain": [
       "array([1., 1., 0., ..., 0., 0., 0.], shape=(25037,))"
      ]
     },
     "execution_count": 45,
     "metadata": {},
     "output_type": "execute_result"
    }
   ],
   "source": [
    "# Encode the training outcome variable\n",
    "y_train_encoded = ohe_label.fit_transform(y_train.values.reshape(-1, 1)).ravel()\n",
    "\n",
    "# Display the encoded training outcome variable\n",
    "y_train_encoded"
   ]
  },
  {
   "cell_type": "markdown",
   "metadata": {
    "id": "iDYyjWssbnBG"
   },
   "source": [
    "### **Model building**"
   ]
  },
  {
   "cell_type": "markdown",
   "metadata": {
    "id": "ty8ieBkDBH4g"
   },
   "source": [
    "Construct a model and fit it to the training set."
   ]
  },
  {
   "cell_type": "code",
   "execution_count": 46,
   "metadata": {
    "id": "sNcke2SNvZrN"
   },
   "outputs": [],
   "source": [
    "# Construct a logistic regression model and fit it to the training set\n",
    "clf = LogisticRegression(max_iter=1000).fit(X_train_final, y_train_encoded)"
   ]
  },
  {
   "cell_type": "markdown",
   "metadata": {
    "id": "cp7ojoBldEYy"
   },
   "source": [
    "## **PACE: Execute**"
   ]
  },
  {
   "cell_type": "markdown",
   "metadata": {
    "id": "F_l3bkxQdJ3a"
   },
   "source": [
    "### **Results and evaluation**"
   ]
  },
  {
   "cell_type": "markdown",
   "metadata": {
    "id": "bxnKPq6dIUOB"
   },
   "source": [
    "Encode categorical features in the testing set using an appropriate method."
   ]
  },
  {
   "cell_type": "code",
   "execution_count": 47,
   "metadata": {
    "id": "x-bNI_2_Lp_2"
   },
   "outputs": [
    {
     "data": {
      "text/html": [
       "<div>\n",
       "<style scoped>\n",
       "    .dataframe tbody tr th:only-of-type {\n",
       "        vertical-align: middle;\n",
       "    }\n",
       "\n",
       "    .dataframe tbody tr th {\n",
       "        vertical-align: top;\n",
       "    }\n",
       "\n",
       "    .dataframe thead th {\n",
       "        text-align: right;\n",
       "    }\n",
       "</style>\n",
       "<table border=\"1\" class=\"dataframe\">\n",
       "  <thead>\n",
       "    <tr style=\"text-align: right;\">\n",
       "      <th></th>\n",
       "      <th>claim_status</th>\n",
       "      <th>author_ban_status</th>\n",
       "    </tr>\n",
       "  </thead>\n",
       "  <tbody>\n",
       "    <tr>\n",
       "      <th>26849</th>\n",
       "      <td>opinion</td>\n",
       "      <td>active</td>\n",
       "    </tr>\n",
       "    <tr>\n",
       "      <th>1227</th>\n",
       "      <td>claim</td>\n",
       "      <td>under review</td>\n",
       "    </tr>\n",
       "    <tr>\n",
       "      <th>25467</th>\n",
       "      <td>opinion</td>\n",
       "      <td>under review</td>\n",
       "    </tr>\n",
       "  </tbody>\n",
       "</table>\n",
       "</div>"
      ],
      "text/plain": [
       "      claim_status author_ban_status\n",
       "26849      opinion            active\n",
       "1227         claim      under review\n",
       "25467      opinion      under review"
      ]
     },
     "execution_count": 47,
     "metadata": {},
     "output_type": "execute_result"
    }
   ],
   "source": [
    "# Select the testing features that needs to be encoded\n",
    "X_test[encoding_features].head(3)"
   ]
  },
  {
   "cell_type": "code",
   "execution_count": 48,
   "metadata": {
    "id": "OWa-7XD-Lp_3"
   },
   "outputs": [
    {
     "data": {
      "text/plain": [
       "array([[1., 0., 0.],\n",
       "       [0., 0., 1.],\n",
       "       [1., 0., 1.]])"
      ]
     },
     "execution_count": 48,
     "metadata": {},
     "output_type": "execute_result"
    }
   ],
   "source": [
    "# Transform the testing features using the encoder\n",
    "X_test_encoded = ohe.fit_transform(X_test[encoding_features])\n",
    "\n",
    "# Display first few rows of encoded testing features\n",
    "X_test_encoded[:3]"
   ]
  },
  {
   "cell_type": "code",
   "execution_count": 49,
   "metadata": {
    "id": "Nmuk2nAELp_3"
   },
   "outputs": [
    {
     "data": {
      "text/html": [
       "<div>\n",
       "<style scoped>\n",
       "    .dataframe tbody tr th:only-of-type {\n",
       "        vertical-align: middle;\n",
       "    }\n",
       "\n",
       "    .dataframe tbody tr th {\n",
       "        vertical-align: top;\n",
       "    }\n",
       "\n",
       "    .dataframe thead th {\n",
       "        text-align: right;\n",
       "    }\n",
       "</style>\n",
       "<table border=\"1\" class=\"dataframe\">\n",
       "  <thead>\n",
       "    <tr style=\"text-align: right;\">\n",
       "      <th></th>\n",
       "      <th>claim_status_opinion</th>\n",
       "      <th>author_ban_status_banned</th>\n",
       "      <th>author_ban_status_under_review</th>\n",
       "    </tr>\n",
       "  </thead>\n",
       "  <tbody>\n",
       "    <tr>\n",
       "      <th>0</th>\n",
       "      <td>1.0</td>\n",
       "      <td>0.0</td>\n",
       "      <td>0.0</td>\n",
       "    </tr>\n",
       "    <tr>\n",
       "      <th>1</th>\n",
       "      <td>0.0</td>\n",
       "      <td>0.0</td>\n",
       "      <td>1.0</td>\n",
       "    </tr>\n",
       "    <tr>\n",
       "      <th>2</th>\n",
       "      <td>1.0</td>\n",
       "      <td>0.0</td>\n",
       "      <td>1.0</td>\n",
       "    </tr>\n",
       "    <tr>\n",
       "      <th>3</th>\n",
       "      <td>1.0</td>\n",
       "      <td>1.0</td>\n",
       "      <td>0.0</td>\n",
       "    </tr>\n",
       "    <tr>\n",
       "      <th>4</th>\n",
       "      <td>1.0</td>\n",
       "      <td>1.0</td>\n",
       "      <td>0.0</td>\n",
       "    </tr>\n",
       "  </tbody>\n",
       "</table>\n",
       "</div>"
      ],
      "text/plain": [
       "   claim_status_opinion  author_ban_status_banned  \\\n",
       "0                   1.0                       0.0   \n",
       "1                   0.0                       0.0   \n",
       "2                   1.0                       0.0   \n",
       "3                   1.0                       1.0   \n",
       "4                   1.0                       1.0   \n",
       "\n",
       "   author_ban_status_under_review  \n",
       "0                             0.0  \n",
       "1                             1.0  \n",
       "2                             1.0  \n",
       "3                             0.0  \n",
       "4                             0.0  "
      ]
     },
     "execution_count": 49,
     "metadata": {},
     "output_type": "execute_result"
    }
   ],
   "source": [
    "# Place encoded testing features (which is currently an array) into a dataframe\n",
    "X_test_encoded_df = pd.DataFrame(X_test_encoded, \n",
    "                                columns=['claim_status_opinion', 'author_ban_status_banned', \n",
    "                                         'author_ban_status_under_review'])\n",
    "\n",
    "# Display first few rows\n",
    "X_test_encoded_df.head()"
   ]
  },
  {
   "cell_type": "code",
   "execution_count": 50,
   "metadata": {
    "id": "uPkMT-n17pV5"
   },
   "outputs": [
    {
     "data": {
      "text/html": [
       "<div>\n",
       "<style scoped>\n",
       "    .dataframe tbody tr th:only-of-type {\n",
       "        vertical-align: middle;\n",
       "    }\n",
       "\n",
       "    .dataframe tbody tr th {\n",
       "        vertical-align: top;\n",
       "    }\n",
       "\n",
       "    .dataframe thead th {\n",
       "        text-align: right;\n",
       "    }\n",
       "</style>\n",
       "<table border=\"1\" class=\"dataframe\">\n",
       "  <thead>\n",
       "    <tr style=\"text-align: right;\">\n",
       "      <th></th>\n",
       "      <th>video_view_count</th>\n",
       "      <th>video_duration_sec</th>\n",
       "      <th>transcription_length</th>\n",
       "    </tr>\n",
       "  </thead>\n",
       "  <tbody>\n",
       "    <tr>\n",
       "      <th>0</th>\n",
       "      <td>1580.0</td>\n",
       "      <td>14</td>\n",
       "      <td>109</td>\n",
       "    </tr>\n",
       "    <tr>\n",
       "      <th>1</th>\n",
       "      <td>862507.0</td>\n",
       "      <td>43</td>\n",
       "      <td>111</td>\n",
       "    </tr>\n",
       "    <tr>\n",
       "      <th>2</th>\n",
       "      <td>449.0</td>\n",
       "      <td>52</td>\n",
       "      <td>64</td>\n",
       "    </tr>\n",
       "  </tbody>\n",
       "</table>\n",
       "</div>"
      ],
      "text/plain": [
       "   video_view_count  video_duration_sec  transcription_length\n",
       "0            1580.0                  14                   109\n",
       "1          862507.0                  43                   111\n",
       "2             449.0                  52                    64"
      ]
     },
     "execution_count": 50,
     "metadata": {},
     "output_type": "execute_result"
    }
   ],
   "source": [
    "# Display first few rows of `X_test` with `claim_status` and `author_ban_status` columns dropped (since these features are being transformed to numeric)\n",
    "X_test = X_test.drop(columns=encoding_features).reset_index(drop=True)\n",
    "X_test.head(3)"
   ]
  },
  {
   "cell_type": "code",
   "execution_count": 51,
   "metadata": {
    "id": "uLRVCl2yLp_4"
   },
   "outputs": [
    {
     "data": {
      "text/html": [
       "<div>\n",
       "<style scoped>\n",
       "    .dataframe tbody tr th:only-of-type {\n",
       "        vertical-align: middle;\n",
       "    }\n",
       "\n",
       "    .dataframe tbody tr th {\n",
       "        vertical-align: top;\n",
       "    }\n",
       "\n",
       "    .dataframe thead th {\n",
       "        text-align: right;\n",
       "    }\n",
       "</style>\n",
       "<table border=\"1\" class=\"dataframe\">\n",
       "  <thead>\n",
       "    <tr style=\"text-align: right;\">\n",
       "      <th></th>\n",
       "      <th>video_view_count</th>\n",
       "      <th>video_duration_sec</th>\n",
       "      <th>transcription_length</th>\n",
       "      <th>claim_status_opinion</th>\n",
       "      <th>author_ban_status_banned</th>\n",
       "      <th>author_ban_status_under_review</th>\n",
       "    </tr>\n",
       "  </thead>\n",
       "  <tbody>\n",
       "    <tr>\n",
       "      <th>0</th>\n",
       "      <td>1580.0</td>\n",
       "      <td>14</td>\n",
       "      <td>109</td>\n",
       "      <td>1.0</td>\n",
       "      <td>0.0</td>\n",
       "      <td>0.0</td>\n",
       "    </tr>\n",
       "    <tr>\n",
       "      <th>1</th>\n",
       "      <td>862507.0</td>\n",
       "      <td>43</td>\n",
       "      <td>111</td>\n",
       "      <td>0.0</td>\n",
       "      <td>0.0</td>\n",
       "      <td>1.0</td>\n",
       "    </tr>\n",
       "    <tr>\n",
       "      <th>2</th>\n",
       "      <td>449.0</td>\n",
       "      <td>52</td>\n",
       "      <td>64</td>\n",
       "      <td>1.0</td>\n",
       "      <td>0.0</td>\n",
       "      <td>1.0</td>\n",
       "    </tr>\n",
       "    <tr>\n",
       "      <th>3</th>\n",
       "      <td>4458.0</td>\n",
       "      <td>17</td>\n",
       "      <td>61</td>\n",
       "      <td>1.0</td>\n",
       "      <td>1.0</td>\n",
       "      <td>0.0</td>\n",
       "    </tr>\n",
       "    <tr>\n",
       "      <th>4</th>\n",
       "      <td>9877.0</td>\n",
       "      <td>8</td>\n",
       "      <td>84</td>\n",
       "      <td>1.0</td>\n",
       "      <td>1.0</td>\n",
       "      <td>0.0</td>\n",
       "    </tr>\n",
       "  </tbody>\n",
       "</table>\n",
       "</div>"
      ],
      "text/plain": [
       "   video_view_count  video_duration_sec  transcription_length  \\\n",
       "0            1580.0                  14                   109   \n",
       "1          862507.0                  43                   111   \n",
       "2             449.0                  52                    64   \n",
       "3            4458.0                  17                    61   \n",
       "4            9877.0                   8                    84   \n",
       "\n",
       "   claim_status_opinion  author_ban_status_banned  \\\n",
       "0                   1.0                       0.0   \n",
       "1                   0.0                       0.0   \n",
       "2                   1.0                       0.0   \n",
       "3                   1.0                       1.0   \n",
       "4                   1.0                       1.0   \n",
       "\n",
       "   author_ban_status_under_review  \n",
       "0                             0.0  \n",
       "1                             1.0  \n",
       "2                             1.0  \n",
       "3                             0.0  \n",
       "4                             0.0  "
      ]
     },
     "execution_count": 51,
     "metadata": {},
     "output_type": "execute_result"
    }
   ],
   "source": [
    "# Concatenate `X_test` and `X_test_encoded_df` to form the final dataframe for training data (`X_test_final`)\n",
    "X_test_final = pd.concat([X_test, X_test_encoded_df], axis=1)\n",
    "\n",
    "# Display first few rows\n",
    "X_test_final.head()"
   ]
  },
  {
   "cell_type": "markdown",
   "metadata": {
    "id": "gM9egturW1eX"
   },
   "source": [
    "Test the logistic regression model. Use the model to make predictions on the encoded testing set."
   ]
  },
  {
   "cell_type": "code",
   "execution_count": 52,
   "metadata": {
    "id": "NZQbthy93bWM"
   },
   "outputs": [],
   "source": [
    "# Use the logistic regression model to get predictions on the encoded testing set\n",
    "y_pred = clf.predict(X_test_final)"
   ]
  },
  {
   "cell_type": "markdown",
   "metadata": {
    "id": "HNjDzuqmYU0G"
   },
   "source": [
    "Display the predictions on the encoded testing set."
   ]
  },
  {
   "cell_type": "code",
   "execution_count": 53,
   "metadata": {
    "id": "tyKjLA_gYUYZ"
   },
   "outputs": [
    {
     "data": {
      "text/plain": [
       "array([1., 0., 1., ..., 1., 0., 0.], shape=(10731,))"
      ]
     },
     "execution_count": 53,
     "metadata": {},
     "output_type": "execute_result"
    }
   ],
   "source": [
    "# Display the predictions on the encoded testing set\n",
    "y_pred"
   ]
  },
  {
   "cell_type": "markdown",
   "metadata": {
    "id": "iXDp4m9dYlN3"
   },
   "source": [
    "Display the true labels of the testing set."
   ]
  },
  {
   "cell_type": "code",
   "execution_count": 54,
   "metadata": {
    "id": "JymZrHVDYdvu"
   },
   "outputs": [
    {
     "data": {
      "text/plain": [
       "26849        verified\n",
       "1227     not verified\n",
       "25467        verified\n",
       "27310        verified\n",
       "27560        verified\n",
       "             ...     \n",
       "16758    not verified\n",
       "28583        verified\n",
       "23163        verified\n",
       "1580     not verified\n",
       "7676     not verified\n",
       "Name: verified_status, Length: 10731, dtype: object"
      ]
     },
     "execution_count": 54,
     "metadata": {},
     "output_type": "execute_result"
    }
   ],
   "source": [
    "# Display the true labels of the testing set\n",
    "y_test"
   ]
  },
  {
   "cell_type": "markdown",
   "metadata": {
    "id": "WM-HHIInem3Z"
   },
   "source": [
    "Encode the true labels of the testing set so it can be compared to the predictions."
   ]
  },
  {
   "cell_type": "code",
   "execution_count": 55,
   "metadata": {
    "id": "KNnYVZnjfJfz"
   },
   "outputs": [
    {
     "data": {
      "text/plain": [
       "array([1., 0., 1., ..., 1., 0., 0.], shape=(10731,))"
      ]
     },
     "execution_count": 55,
     "metadata": {},
     "output_type": "execute_result"
    }
   ],
   "source": [
    "# Encode the testing outcome variable\n",
    "y_test_encoded = ohe_label.transform(y_test.values.reshape(-1, 1)).ravel()\n",
    "\n",
    "\n",
    "# Display the encoded testing outcome variable\n",
    "y_test_encoded"
   ]
  },
  {
   "cell_type": "markdown",
   "metadata": {
    "id": "IzdbI4A4mmHA"
   },
   "source": [
    "Confirm again that the dimensions of the training and testing sets are in alignment since additional features were added."
   ]
  },
  {
   "cell_type": "code",
   "execution_count": 56,
   "metadata": {
    "id": "WbbI5cSfmmHA"
   },
   "outputs": [
    {
     "name": "stdout",
     "output_type": "stream",
     "text": [
      "y_test has 10731 rows.\n",
      "y_pred has 10731 rows.\n"
     ]
    }
   ],
   "source": [
    "# Get shape of each training and testing set\n",
    "print(f\"y_test has {y_test_encoded.shape[0]} rows.\")\n",
    "print(f\"y_pred has {y_pred.shape[0]} rows.\")"
   ]
  },
  {
   "cell_type": "markdown",
   "metadata": {
    "id": "IMQltTaQFnwv"
   },
   "source": [
    "### **Visualize model results**"
   ]
  },
  {
   "cell_type": "markdown",
   "metadata": {
    "id": "VVMG0ubSXQvS"
   },
   "source": [
    "Create a confusion matrix to visualize the results of the logistic regression model."
   ]
  },
  {
   "cell_type": "code",
   "execution_count": 57,
   "metadata": {
    "id": "ZPgiHdlyZCTf"
   },
   "outputs": [
    {
     "data": {
      "image/png": "[encoded data removed]",
      "text/plain": [
       "<Figure size 640x480 with 2 Axes>"
      ]
     },
     "metadata": {},
     "output_type": "display_data"
    }
   ],
   "source": [
    "# Compute values for confusion matrix\n",
    "cm = confusion_matrix(y_test_encoded, y_pred)\n",
    "\n",
    "# Create display of confusion matrix\n",
    "disp = ConfusionMatrixDisplay(confusion_matrix=cm)\n",
    "\n",
    "# Plot confusion matrix\n",
    "disp.plot()\n",
    "\n",
    "# Display plot\n",
    "plt.show()"
   ]
  },
  {
   "cell_type": "markdown",
   "metadata": {
    "id": "I6OmnATfbtNd"
   },
   "source": [
    "Let's create a classification report that includes precision, recall, f1-score, and accuracy metrics to evaluate the performance of the logistic regression model."
   ]
  },
  {
   "cell_type": "code",
   "execution_count": 58,
   "metadata": {
    "id": "AMxCzRa-bnUe"
   },
   "outputs": [
    {
     "name": "stdout",
     "output_type": "stream",
     "text": [
      "f1 score: 0.727\n",
      "Presision: 0.643\n",
      "Recall: 0.835\n",
      "Accuracy: 0.685\n"
     ]
    }
   ],
   "source": [
    "# Create a classification report\n",
    "print(f\"f1 score: {np.round(f1_score(y_test_encoded, y_pred), 3)}\")\n",
    "print(f\"Presision: {np.round(precision_score(y_test_encoded, y_pred), 3)}\")\n",
    "print(f\"Recall: {np.round(recall_score(y_test_encoded, y_pred), 3)}\")\n",
    "print(f\"Accuracy: {np.round(accuracy_score(y_test_encoded, y_pred), 3)}\")"
   ]
  },
  {
   "cell_type": "markdown",
   "metadata": {
    "id": "IFY_y19EKQoO"
   },
   "source": [
    "### **Interpret model coefficients**"
   ]
  },
  {
   "cell_type": "code",
   "execution_count": 59,
   "metadata": {
    "id": "6TmRk8tz4JpG"
   },
   "outputs": [
    {
     "data": {
      "text/html": [
       "<div>\n",
       "<style scoped>\n",
       "    .dataframe tbody tr th:only-of-type {\n",
       "        vertical-align: middle;\n",
       "    }\n",
       "\n",
       "    .dataframe tbody tr th {\n",
       "        vertical-align: top;\n",
       "    }\n",
       "\n",
       "    .dataframe thead th {\n",
       "        text-align: right;\n",
       "    }\n",
       "</style>\n",
       "<table border=\"1\" class=\"dataframe\">\n",
       "  <thead>\n",
       "    <tr style=\"text-align: right;\">\n",
       "      <th></th>\n",
       "      <th>Feature</th>\n",
       "      <th>Log-Odds Ratio</th>\n",
       "    </tr>\n",
       "  </thead>\n",
       "  <tbody>\n",
       "    <tr>\n",
       "      <th>3</th>\n",
       "      <td>claim_status_opinion</td>\n",
       "      <td>1.475064</td>\n",
       "    </tr>\n",
       "    <tr>\n",
       "      <th>4</th>\n",
       "      <td>author_ban_status_banned</td>\n",
       "      <td>-0.433187</td>\n",
       "    </tr>\n",
       "    <tr>\n",
       "      <th>5</th>\n",
       "      <td>author_ban_status_under_review</td>\n",
       "      <td>-0.370308</td>\n",
       "    </tr>\n",
       "    <tr>\n",
       "      <th>2</th>\n",
       "      <td>transcription_length</td>\n",
       "      <td>-0.001922</td>\n",
       "    </tr>\n",
       "    <tr>\n",
       "      <th>1</th>\n",
       "      <td>video_duration_sec</td>\n",
       "      <td>-0.001738</td>\n",
       "    </tr>\n",
       "  </tbody>\n",
       "</table>\n",
       "</div>"
      ],
      "text/plain": [
       "                          Feature  Log-Odds Ratio\n",
       "3            claim_status_opinion        1.475064\n",
       "4        author_ban_status_banned       -0.433187\n",
       "5  author_ban_status_under_review       -0.370308\n",
       "2            transcription_length       -0.001922\n",
       "1              video_duration_sec       -0.001738"
      ]
     },
     "execution_count": 59,
     "metadata": {},
     "output_type": "execute_result"
    }
   ],
   "source": [
    "# Get feature names (assuming X_train_final is a DataFrame)\n",
    "feature_names = X_train_final.columns\n",
    "\n",
    "# Get model coefficients (flattened if necessary)\n",
    "coefficients = clf.coef_[0]\n",
    "\n",
    "# Create a DataFrame\n",
    "coef_df = pd.DataFrame({\n",
    "    'Feature': feature_names,\n",
    "    'Log-Odds Ratio': coefficients\n",
    "})\n",
    "\n",
    "# Sort by absolute value of coefficients (optional, for better readability)\n",
    "coef_df = coef_df.reindex(coef_df['Log-Odds Ratio'].abs().sort_values(ascending=False).index)\n",
    "coef_df.head()"
   ]
  },
  {
   "cell_type": "markdown",
   "metadata": {
    "id": "P6AlDDyhdzmG"
   },
   "source": [
    "### **Conclusion**\n",
    "\n",
    "**Key Takeaways:**\n",
    "\n",
    "1. Strong Recall, Moderate Precision:\n",
    "\n",
    "    - Recall = 0.835 → The model correctly identifies most of the positive cases.\n",
    "    \n",
    "    - Precision = 0.643 → A significant number of false positives are present.\n",
    "\n",
    "2. Balanced Performance:\n",
    "\n",
    "    - F1 Score = 0.727 → Shows a decent balance between precision and recall.\n",
    "    \n",
    "    - Accuracy = 0.685 → The model performs moderately well overall.\n",
    "\n",
    "3. Feature Impact (Logistic Regression Coefficients):\n",
    "\n",
    "    - *transcription_length* and *video_duration_sec* are the most influential predictors (positive impact).\n",
    "    \n",
    "    - *claim_status_opinion* has minimal effect.\n",
    "    \n",
    "    - *video_view_count* and *author_ban_status_banned* contribute almost nothing (near-zero influence).\n",
    "\n",
    "4. Room for Improvement:\n",
    "\n",
    "   High false positives (seen in confusion matrix: 2965) suggest model may benefit from:\n",
    "\n",
    "    - Additional features\n",
    "\n",
    "    - Feature engineering\n",
    "\n",
    "    - Or a more complex model.\n"
   ]
  },
  {
   "cell_type": "markdown",
   "metadata": {
    "id": "BzqJ13WAnt4R"
   },
   "source": [
    "- The model achieves 83.5% recall, meaning it successfully identifies the majority of the true positive cases. This is valuable when missing a positive case is costly (e.g., misinformation or harmful content).\n",
    "\n",
    "- While the accuracy is 68.5%, the high F1 score of 72.7% shows a good balance between precision and recall, making the model reliable for real-world use.\n",
    "\n",
    "- The feature transcription_length has the strongest positive influence on the prediction outcome, suggesting that longer transcripts are more likely associated with the target label.\n",
    "\n",
    "- Features like video_view_count and author_ban_status_banned had little to no influence, which may indicate they can be deprioritized or removed to simplify the model."
   ]
  },
  {
   "cell_type": "code",
   "execution_count": null,
   "metadata": {},
   "outputs": [],
   "source": []
  }
 ],
 "metadata": {
  "colab": {
   "provenance": []
  },
  "kernelspec": {
   "display_name": "Python 3 (ipykernel)",
   "language": "python",
   "name": "python3"
  },
  "language_info": {
   "codemirror_mode": {
    "name": "ipython",
    "version": 3
   },
   "file_extension": ".py",
   "mimetype": "text/x-python",
   "name": "python",
   "nbconvert_exporter": "python",
   "pygments_lexer": "ipython3",
   "version": "3.12.2"
  }
 },
 "nbformat": 4,
 "nbformat_minor": 4
}
